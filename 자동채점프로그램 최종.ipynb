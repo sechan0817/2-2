{
 "cells": [
  {
   "cell_type": "code",
   "execution_count": 6,
   "metadata": {},
   "outputs": [
    {
     "name": "stdout",
     "output_type": "stream",
     "text": [
      "채점하시는 과목명을 입력해주세요 : 생명과학실험\n",
      "채점하시는 시험지의 파일명을 입력해주세요 : 2604김소현\n",
      "채점 결과 :  2604김소현.csv 의 생명과학실험.csv 과목의 총점은 82.0 점입니다\n",
      "확인 사항 : ['13.1', '20.1'] 번은 그림을 그리는 문제이므로 시험지를 확인해주세요\n",
      "틀린 문제 : ['1.2', '2.1', '3.1', '4.1', '4.4', '5.4', '6.1', '6.3.2', '7', '17.1', '18.2.3'] 번 입니다\n"
     ]
    }
   ],
   "source": [
   "import csv\n",
   "\n", 
   "while True:\n",
   "    try:\n",
   "        subject = str(input(\"채점하시는 과목명을 입력해주세요 : \")) + \".csv\"  # 생명과학실험\n",   # 채점 과목명을 입력한다
   "        number = []\n",
   "        answer = []\n",
   "        score = []\n",   # 채점에 필요한 리스트들을 생성한다
   "        with open(subject) as f:\n",
   "            g = csv.reader(f)\n",
   "            for raw in g:\n",  # 선생님 답안 csv 파일에서 각 열별로 어떤 데이터인지 구분하여 리스트를 생성한다
   "                number.append(raw[0])\n",
   "                answer.append(raw[1])\n",
   "                score.append(raw[2])\n",
   "        break\n",    # 작업이 끝나면 멈춘다
   "    except FileNotFoundError:\n",
   "        print(\"잘못된 과목명을 입력하셨습니다.\\n해당 과목명을 잘못 입력하셨거나 해당 과목 채점 파일이 존재하지 않습니다.\\n다시 한번 입력해주세요.\")\n",
   "\n",
   "while True:\n",
   "    try:\n",
   "        stpaper = str(input(\"채점하시는 시험지의 파일명을 입력해주세요 : \"))+\".csv\"  # 2604김소현, 2602 허민영\n",
   "        stanswer = []\n",
   "        with open(stpaper) as f:\n",
   "            g = csv.reader(f)\n",
   "            for raw in g:\n",
   "                stanswer.append(raw[1])\n",   # 학생 답안에서 답에 대한 데이터를 리스트로 저장한다
   "        break\n",
   "    except FileNotFoundError:\n",
   "        print(\"잘못된 시험지 파일명을 입력하셨습니다.\\n해당 파일명을 잘못 입력하셨거나 해당 학생 시험지 파일이 존재하지 않습니다.\\n다시 한번 입력해주세요.\n",
   "new = []\n",
   "for i in range(0, len(answer)):\n",    # /로 구분된 키워드들을 묶어 키워드 리스트로 만든다
   "    n = answer[i].split('/')\n",
   "    new.append(n)\n",
   "\n",
   "점수 = 0\n",   # 채점을 맞은 점수를 0에서 더해가는 방식으로 진행한다
   "오답 = []\n",
   "그림문제 = []\n",    # 오답과 그림 문제에 대한 문항 번호를 알려주기 위해 리스트를 생성한다
   "for j in range(0, len(stanswer)):\n",   # 모든 문항에 대해 채점하기 위한 반복문이다
   "    txt = stanswer[j].upper()\n",   # 대소문자 오류를 없애기 위해 모두 다 대문자로 바꿔준다 (날카로운 연구소에서 지적한 바와 같이 대소문자 구분이 필요한 문제에는 적절하지 ㅇ낳다)
   "    sc = float(score[j])\n",  # 배점이 소수점인 경우에 맞춰서 소수 처리를 해준다
   "    cp = True\n",   # cp 라는 값의 true or false 여부에 따라 정답 여부가 결정된다. 초기 값이 true이다
   "    for i in range(len(new[j])):\n",  # 답안의 모든 키워드에 대해서 반복을 진행한다
   "        ans = new[j][i].upper()\n",   # 그 문제에 해당하는 키워드 중 하나를 ans라고 정한다
   "        if ans in txt:\n", # 키워드 학생의 답안에 있다면
   "            cp = True\n", # 여전히 true이다
   "        if ans not in txt:\n",  # 하지만 키워드 하나라도 빠져있다면
   "            cp = False\n",   # cp 가 false가 되어
   "            오답.append(number[j])\n",  # 오답 처리가 되고, 
   "            break\n", # 키워드 하나라도 빠지면 오답으로 처리하므로 break로 반복을 멈춰준다
   "        if str(ans) == '그림생략':\n",   # 학생의 답안이 그림생략일 경우 인식하여 그림문제 리스트에 넣어준다
   "            n = number[j]\n",
   "            그림문제.append(n)\n",
   "    if cp:\n",
   "        점수 += sc\n",  # 최종 점수를 출력한다
   "\n",
   "print('채점 결과 : ', stpaper.split('.')[0], '의', subject.split('.')[0], '과목의 총점은', 점수, '점입니다')\n",
   "print('확인 사항 :', str(그림문제), '번은 그림을 그리는 문제이므로 시험지를 확인해주세요')\n",
   "print('틀린 문제 :', str(오답), '번 입니다')"  # 최종 결과 정보를 알려준다
   ]
  },
  {
   "cell_type": "code",
   "execution_count": null,
   "metadata": {},
   "outputs": [],
   "source": []
  }
 ],
 "metadata": {
  "kernelspec": {
   "display_name": "Python 3",
   "language": "python",
   "name": "python3"
  },
  "language_info": {
   "codemirror_mode": {
    "name": "ipython",
    "version": 3
   },
   "file_extension": ".py",
   "mimetype": "text/x-python",
   "name": "python",
   "nbconvert_exporter": "python",
   "pygments_lexer": "ipython3",
   "version": "3.7.1"
  }
 },
 "nbformat": 4,
 "nbformat_minor": 2
}
